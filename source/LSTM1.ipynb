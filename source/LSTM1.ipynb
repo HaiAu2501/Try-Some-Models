{
 "cells": [
  {
   "cell_type": "code",
   "execution_count": 3,
   "metadata": {},
   "outputs": [],
   "source": [
    "import pandas as pd\n",
    "import tensorflow as tf\n",
    "import numpy as np\n",
    "import matplotlib.pyplot as plt\n",
    "\n",
    "from dataflow import df_train, df_test, df_geography, df_product\n",
    "\n"
   ]
  },
  {
   "cell_type": "code",
   "execution_count": 2,
   "metadata": {},
   "outputs": [],
   "source": [
    "import torch "
   ]
  },
  {
   "cell_type": "code",
   "execution_count": 3,
   "metadata": {},
   "outputs": [],
   "source": [
    "import tensorflow as tf\n",
    "from tensorflow.keras.models import Sequential\n",
    "from tensorflow.keras.layers import LSTM, Dense, Dropout\n",
    "from tensorflow.keras.losses import MeanSquaredError"
   ]
  },
  {
   "cell_type": "code",
   "execution_count": 4,
   "metadata": {},
   "outputs": [
    {
     "name": "stdout",
     "output_type": "stream",
     "text": [
      "Python Interpreter Path: c:\\Users\\Hưng Tăng\\AppData\\Local\\Programs\\Python\\Python312\\python.exe\n"
     ]
    }
   ],
   "source": [
    "import sys\n",
    "print(\"Python Interpreter Path:\", sys.executable)\n"
   ]
  },
  {
   "cell_type": "code",
   "execution_count": 5,
   "metadata": {},
   "outputs": [],
   "source": [
    "import pandas as pd\n",
    "import numpy as np\n",
    "from sklearn.model_selection import train_test_split\n",
    "from sklearn.preprocessing import MinMaxScaler\n",
    "\n",
    "# Chuyển cột Date sang kiểu datetime\n",
    "df_train['Date'] = pd.to_datetime(df_train['Date'], errors='coerce')\n",
    "df_test['Date'] = pd.to_datetime(df_test['Date'], errors='coerce')\n",
    "\n",
    "# Xử lý lỗi nếu có giá trị NaT\n",
    "df_train.dropna(subset=['Date'], inplace=True)\n",
    "df_test.dropna(subset=['Date'], inplace=True)\n",
    "\n",
    "# Tính số ngày kể từ ngày đầu tiên trong tập train\n",
    "min_date = df_train['Date'].min()\n",
    "df_train['Date'] = (df_train['Date'] - min_date).dt.days\n",
    "df_test['Date'] = (df_test['Date'] - min_date).dt.days\n",
    "\n",
    "# Chia df_train thành train (80%) và val (20%)\n",
    "df_train, df_val = train_test_split(df_train, test_size=0.2, shuffle=True, random_state=42)\n",
    "\n",
    "# Chọn features và labels\n",
    "features = ['ProductID', 'Date', 'Zip', 'COGS']\n",
    "targets = ['Units', 'Revenue']\n",
    "\n",
    "# Chuẩn hóa dữ liệu\n",
    "scaler_X = MinMaxScaler()\n",
    "scaler_y = MinMaxScaler()\n",
    "\n",
    "X_train = scaler_X.fit_transform(df_train[features])\n",
    "X_val = scaler_X.transform(df_val[features])\n",
    "X_test = scaler_X.transform(df_test[features])  # Dùng tập test để dự đoán\n",
    "\n",
    "y_train = scaler_y.fit_transform(df_train[targets])\n",
    "y_val = scaler_y.transform(df_val[targets])\n",
    "y_test = scaler_y.transform(df_test[targets])  # Dùng để đánh giá mô hình\n"
   ]
  },
  {
   "cell_type": "code",
   "execution_count": 7,
   "metadata": {},
   "outputs": [],
   "source": [
    "def create_sequences(X, y, time_steps=10):\n",
    "    X_seq, y_seq = [], []\n",
    "    for i in range(len(X) - time_steps):\n",
    "        X_seq.append(X[i:i+time_steps])\n",
    "        y_seq.append(y[i+time_steps])\n",
    "    return np.array(X_seq), np.array(y_seq)\n",
    "\n",
    "time_steps = 20  # Dùng 20 ngày trước đó để dự đoán ngày tiếp theo\n",
    "\n",
    "X_train_seq, y_train_seq = create_sequences(X_train, y_train, time_steps)\n",
    "X_val_seq, y_val_seq = create_sequences(X_val, y_val, time_steps)\n",
    "X_test_seq, y_test_seq = create_sequences(X_test, y_test, time_steps)  # Tập này sẽ dùng để dự đoán\n"
   ]
  },
  {
   "cell_type": "code",
   "execution_count": null,
   "metadata": {},
   "outputs": [
    {
     "name": "stdout",
     "output_type": "stream",
     "text": [
      "📊 Epoch 1 | Train Loss = 0.0003 | Val Loss Units = 0.0001, Val Loss Revenue = 0.0002\n",
      "📊 Epoch 2 | Train Loss = 0.0002 | Val Loss Units = 0.0001, Val Loss Revenue = 0.0002\n",
      "📊 Epoch 3 | Train Loss = 0.0002 | Val Loss Units = 0.0001, Val Loss Revenue = 0.0002\n",
      "📊 Epoch 4 | Train Loss = 0.0002 | Val Loss Units = 0.0001, Val Loss Revenue = 0.0002\n",
      "📊 Epoch 5 | Train Loss = 0.0002 | Val Loss Units = 0.0001, Val Loss Revenue = 0.0002\n",
      "📊 Epoch 6 | Train Loss = 0.0002 | Val Loss Units = 0.0001, Val Loss Revenue = 0.0002\n",
      "📊 Epoch 7 | Train Loss = 0.0002 | Val Loss Units = 0.0001, Val Loss Revenue = 0.0002\n",
      "📊 Epoch 8 | Train Loss = 0.0002 | Val Loss Units = 0.0001, Val Loss Revenue = 0.0002\n",
      "📊 Epoch 9 | Train Loss = 0.0002 | Val Loss Units = 0.0001, Val Loss Revenue = 0.0002\n"
     ]
    }
   ],
   "source": [
    "import torch\n",
    "import torch.nn as nn\n",
    "import torch.optim as optim\n",
    "from torch.utils.data import DataLoader, TensorDataset\n",
    "\n",
    "# 🔹 Định nghĩa mô hình LSTM\n",
    "class LSTMModel(nn.Module):\n",
    "    def __init__(self, input_dim, hidden_dim1=64, hidden_dim2=32, output_dim=2):\n",
    "        super(LSTMModel, self).__init__()\n",
    "        self.lstm1 = nn.LSTM(input_dim, hidden_dim1, batch_first=True)\n",
    "        self.lstm2 = nn.LSTM(hidden_dim1, hidden_dim2, batch_first=True)\n",
    "        self.dropout = nn.Dropout(0.2)\n",
    "        self.fc = nn.Linear(hidden_dim2, output_dim)\n",
    "    \n",
    "    def forward(self, x):\n",
    "        x, _ = self.lstm1(x)\n",
    "        x = self.dropout(x)\n",
    "        x, _ = self.lstm2(x)\n",
    "        x = self.dropout(x[:, -1, :])  # Lấy giá trị cuối cùng của chuỗi\n",
    "        x = self.fc(x)\n",
    "        return x\n",
    "\n",
    "# 🔹 Hàm loss tách riêng Units và Revenue\n",
    "def custom_loss(y_pred, y_true):\n",
    "    mse = nn.MSELoss()\n",
    "    loss_units = mse(y_pred[:, 0], y_true[:, 0])\n",
    "    loss_revenue = mse(y_pred[:, 1], y_true[:, 1])\n",
    "    return loss_units + loss_revenue\n",
    "\n",
    "# 🔹 Chuyển dữ liệu sang tensor\n",
    "X_train_tensor = torch.tensor(X_train_seq, dtype=torch.float32)\n",
    "y_train_tensor = torch.tensor(y_train_seq, dtype=torch.float32)\n",
    "X_val_tensor = torch.tensor(X_val_seq, dtype=torch.float32)\n",
    "y_val_tensor = torch.tensor(y_val_seq, dtype=torch.float32)\n",
    "\n",
    "# 🔹 Dataloader\n",
    "train_dataset = TensorDataset(X_train_tensor, y_train_tensor)\n",
    "val_dataset = TensorDataset(X_val_tensor, y_val_tensor)\n",
    "train_loader = DataLoader(train_dataset, batch_size=32, shuffle=True)\n",
    "val_loader = DataLoader(val_dataset, batch_size=32, shuffle=False)\n",
    "\n",
    "# 🔹 Khởi tạo mô hình\n",
    "input_dim = X_train_seq.shape[2]\n",
    "model = LSTMModel(input_dim)\n",
    "optimizer = optim.Adam(model.parameters(), lr=0.001)\n",
    "\n",
    "device = torch.device(\"cuda\" if torch.cuda.is_available() else \"cpu\")\n",
    "model.to(device)\n",
    "\n",
    "# 🔹 Callback in loss\n",
    "for epoch in range(10):\n",
    "    model.train()\n",
    "    total_loss = 0\n",
    "    for X_batch, y_batch in train_loader:\n",
    "        X_batch, y_batch = X_batch.to(device), y_batch.to(device)\n",
    "        optimizer.zero_grad()\n",
    "        y_pred = model(X_batch)\n",
    "        loss = custom_loss(y_pred, y_batch)\n",
    "        loss.backward()\n",
    "        optimizer.step()\n",
    "        total_loss += loss.item()\n",
    "    \n",
    "    # 🔹 Đánh giá trên tập validation\n",
    "    model.eval()\n",
    "    val_loss_units, val_loss_revenue = 0, 0\n",
    "    with torch.no_grad():\n",
    "        for X_batch, y_batch in val_loader:\n",
    "            X_batch, y_batch = X_batch.to(device), y_batch.to(device)\n",
    "            y_pred = model(X_batch)\n",
    "            val_loss_units += nn.MSELoss()(y_pred[:, 0], y_batch[:, 0]).item()\n",
    "            val_loss_revenue += nn.MSELoss()(y_pred[:, 1], y_batch[:, 1]).item()\n",
    "    \n",
    "    print(f\"📊 Epoch {epoch+1} | Train Loss = {total_loss/len(train_loader):.4f} | \"\n",
    "          f\"Val Loss Units = {val_loss_units/len(val_loader):.4f}, \"\n",
    "          f\"Val Loss Revenue = {val_loss_revenue/len(val_loader):.4f}\")\n"
   ]
  },
  {
   "cell_type": "code",
   "execution_count": 1,
   "metadata": {},
   "outputs": [],
   "source": [
    "import numpy as np\n",
    "import matplotlib.pyplot as plt\n",
    "from sklearn.metrics import mean_absolute_percentage_error, mean_squared_error, r2_score\n",
    "\n",
    "def evaluate_model(model, X_test_seq, y_test_seq, scaler_y, labels=[\"Units\", \"Revenue\"]):\n",
    "    \"\"\"\n",
    "    Dự đoán trên tập test, xử lý NaN, đánh giá bằng MAPE, RMSE, R^2 và vẽ biểu đồ đường.\n",
    "    \n",
    "    Args:\n",
    "        model: Mô hình đã train.\n",
    "        X_test_seq: Dữ liệu test đã được tạo sequence.\n",
    "        y_test_seq: Ground truth của tập test.\n",
    "        scaler_y: Bộ scaler dùng để đưa giá trị về dạng gốc.\n",
    "        labels: Tên các chỉ số cần đánh giá (Units, Revenue).\n",
    "    \"\"\"\n",
    "    # Dự đoán trên tập test\n",
    "    y_pred_scaled = model.predict(X_test_seq)\n",
    "    \n",
    "    # Chuyển dữ liệu dự đoán và ground truth về dạng gốc\n",
    "    y_pred = scaler_y.inverse_transform(y_pred_scaled)\n",
    "    y_test_orig = scaler_y.inverse_transform(y_test_seq)\n",
    "\n",
    "    # Kiểm tra NaN trong cả y_pred và y_test_orig\n",
    "    if np.isnan(y_pred).any() or np.isnan(y_test_orig).any():\n",
    "        print(\"⚠️ Cảnh báo: Có NaN trong dữ liệu! Sẽ thay thế bằng giá trị trung bình.\")\n",
    "\n",
    "        # Tính giá trị trung bình của từng cột, bỏ qua NaN\n",
    "        col_means_pred = np.nanmean(y_pred, axis=0)\n",
    "        col_means_test = np.nanmean(y_test_orig, axis=0)\n",
    "\n",
    "        # Thay thế NaN trong y_pred\n",
    "        for i in range(y_pred.shape[1]):\n",
    "            y_pred[:, i] = np.where(np.isnan(y_pred[:, i]), col_means_pred[i], y_pred[:, i])\n",
    "\n",
    "        # Thay thế NaN trong y_test_orig\n",
    "        for i in range(y_test_orig.shape[1]):\n",
    "            y_test_orig[:, i] = np.where(np.isnan(y_test_orig[:, i]), col_means_test[i], y_test_orig[:, i])\n",
    "\n",
    "    # Đánh giá mô hình\n",
    "    for i, label in enumerate(labels):\n",
    "        # Tính toán các chỉ số đánh giá\n",
    "        mape = mean_absolute_percentage_error(y_test_orig[:, i], y_pred[:, i])\n",
    "        rmse = np.sqrt(mean_squared_error(y_test_orig[:, i], y_pred[:, i]))\n",
    "        r2 = r2_score(y_test_orig[:, i], y_pred[:, i])\n",
    "\n",
    "        # In kết quả đánh giá\n",
    "        print(f\"{label} - MAPE: {mape:.4f}, RMSE: {rmse:.2f}, R²: {r2:.4f}\")\n",
    "\n",
    "        # Vẽ biểu đồ đường\n",
    "        plt.figure(figsize=(10, 4))\n",
    "        plt.plot(y_test_orig[:, i], label=\"Thực tế\", linestyle='solid', color='blue')\n",
    "        plt.plot(y_pred[:, i], label=\"Dự đoán\", linestyle='dashed', color='red')\n",
    "        plt.title(f\"Biểu đồ dự đoán {label}\")\n",
    "        plt.xlabel(\"Thời gian\")\n",
    "        plt.ylabel(label)\n",
    "        plt.legend()\n",
    "        plt.grid(True)\n",
    "        plt.show()\n"
   ]
  },
  {
   "cell_type": "code",
   "execution_count": 2,
   "metadata": {},
   "outputs": [
    {
     "ename": "NameError",
     "evalue": "name 'model' is not defined",
     "output_type": "error",
     "traceback": [
      "\u001b[1;31m---------------------------------------------------------------------------\u001b[0m",
      "\u001b[1;31mNameError\u001b[0m                                 Traceback (most recent call last)",
      "Cell \u001b[1;32mIn[2], line 1\u001b[0m\n\u001b[1;32m----> 1\u001b[0m evaluate_model(\u001b[43mmodel\u001b[49m, X_test_seq, y_test_seq, scaler_y)\n",
      "\u001b[1;31mNameError\u001b[0m: name 'model' is not defined"
     ]
    }
   ],
   "source": [
    "evaluate_model(model, X_test_seq, y_test_seq, scaler_y)\n"
   ]
  },
  {
   "cell_type": "code",
   "execution_count": null,
   "metadata": {},
   "outputs": [
    {
     "name": "stderr",
     "output_type": "stream",
     "text": [
      "WARNING:absl:You are saving your model as an HDF5 file via `model.save()` or `keras.saving.save_model(model)`. This file format is considered legacy. We recommend using instead the native Keras format, e.g. `model.save('my_model.keras')` or `keras.saving.save_model(model, 'my_model.keras')`. \n"
     ]
    }
   ],
   "source": [
    "# save model\n",
    "model.save('lstm1_model.h5')"
   ]
  },
  {
   "cell_type": "code",
   "execution_count": null,
   "metadata": {},
   "outputs": [
    {
     "ename": "NameError",
     "evalue": "name 'history' is not defined",
     "output_type": "error",
     "traceback": [
      "\u001b[1;31m---------------------------------------------------------------------------\u001b[0m",
      "\u001b[1;31mNameError\u001b[0m                                 Traceback (most recent call last)",
      "Cell \u001b[1;32mIn[29], line 4\u001b[0m\n\u001b[0;32m      1\u001b[0m \u001b[38;5;28;01mimport\u001b[39;00m \u001b[38;5;21;01mmatplotlib\u001b[39;00m\u001b[38;5;21;01m.\u001b[39;00m\u001b[38;5;21;01mpyplot\u001b[39;00m \u001b[38;5;28;01mas\u001b[39;00m \u001b[38;5;21;01mplt\u001b[39;00m\n\u001b[0;32m      3\u001b[0m \u001b[38;5;66;03m# Lấy dữ liệu loss từ quá trình huấn luyện\u001b[39;00m\n\u001b[1;32m----> 4\u001b[0m train_loss \u001b[38;5;241m=\u001b[39m \u001b[43mhistory\u001b[49m\u001b[38;5;241m.\u001b[39mhistory[\u001b[38;5;124m'\u001b[39m\u001b[38;5;124mloss\u001b[39m\u001b[38;5;124m'\u001b[39m]\n\u001b[0;32m      5\u001b[0m val_loss \u001b[38;5;241m=\u001b[39m history\u001b[38;5;241m.\u001b[39mhistory[\u001b[38;5;124m'\u001b[39m\u001b[38;5;124mval_loss\u001b[39m\u001b[38;5;124m'\u001b[39m]\n\u001b[0;32m      7\u001b[0m \u001b[38;5;66;03m# Vẽ biểu đồ loss\u001b[39;00m\n",
      "\u001b[1;31mNameError\u001b[0m: name 'history' is not defined"
     ]
    }
   ],
   "source": [
    "import matplotlib.pyplot as plt\n",
    "\n",
    "# Lấy dữ liệu loss từ quá trình huấn luyện\n",
    "train_loss = history.history['loss']\n",
    "val_loss = history.history['val_loss']\n",
    "\n",
    "# Vẽ biểu đồ loss\n",
    "plt.figure(figsize=(10, 5))\n",
    "plt.plot(train_loss, label='Train Loss', marker='o')\n",
    "plt.plot(val_loss, label='Validation Loss', marker='o')\n",
    "plt.xlabel('Epochs')\n",
    "plt.ylabel('Loss')\n",
    "plt.title('Loss trong quá trình huấn luyện')\n",
    "plt.legend()\n",
    "plt.grid(True)\n",
    "plt.show()\n"
   ]
  }
 ],
 "metadata": {
  "kernelspec": {
   "display_name": "Python 3",
   "language": "python",
   "name": "python3"
  },
  "language_info": {
   "codemirror_mode": {
    "name": "ipython",
    "version": 3
   },
   "file_extension": ".py",
   "mimetype": "text/x-python",
   "name": "python",
   "nbconvert_exporter": "python",
   "pygments_lexer": "ipython3",
   "version": "3.12.2"
  }
 },
 "nbformat": 4,
 "nbformat_minor": 2
}
